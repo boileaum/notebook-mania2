{
 "cells": [
  {
   "cell_type": "markdown",
   "metadata": {},
   "source": [
    "\n",
    "<div align=\"center\">\n",
    "<h3 style=\"text-align: center;\" markdown=\"1\">Journées Mathrice, Montpellier, 27-29 mars 2018</h3>\n",
    "<img alt=\"Mathrice\" width=\"10%\" src=\"images/logo_mathrice.png\">\n",
    "</div>                                       \n",
    "<hr>\n",
    "<h1 style=\"text-align: center;\" markdown=\"0\">Notebook-mania 2 </h1>\n",
    "<h1 style=\"text-align: center;\" markdown=\"0\">La révolution Jupyter en 2018 </h1>\n",
    "<br>\n",
    "<div align=\"center\">\n",
    "<img alt=\"Jupyter\" width=\"12%\" src=\"images/main-logo.svg\">\n",
    "</div>                                       \n",
    "<div align=\"center\">\n",
    "<a rel=\"diaporama\" href=\"index.html\">Diaporama</a> -\n",
    "<a rel=\"html\" href=\"notebook-mania2.html\">Page unique</a>\n",
    "</div>                                       \n",
    "<hr>\n",
    "<h4 style=\"text-align: center;\" markdown=\"0\"><em>Matthieu Boileau</em></h4>\n",
    "<h4 style=\"text-align: center;\" markdown=\"0\"><em>IRMA, CNRS, Université de Strasbourg</em></h4>\n",
    "<hr>\n",
    "\n",
    "\n",
    "<div align=\"center\">\n",
    "<a rel=\"license\" href=\"http://creativecommons.org/licenses/by-sa/4.0/\"><img alt=\"Licence Creative Commons\" src=\"https://i.creativecommons.org/l/by-sa/4.0/88x31.png\"/></a>\n",
    "</div>"
   ]
  },
  {
   "cell_type": "markdown",
   "metadata": {
    "slideshow": {
     "slide_type": "slide"
    }
   },
   "source": [
    "## Introduction\n",
    "\n",
    "### [Journées Mathrice](https://indico.math.cnrs.fr/event/800/),  octobre 2015 à Orsay :\n",
    "\n",
    "<br>\n",
    "<div align=\"center\">\n",
    "<img alt=\"Mathrice\" width=\"30%\" src=\"images/brazil-lime-computer.jpg\">\n",
    "</div>\n",
    "\n",
    "- Thierry Dumont annonce l'entrée dans **une nouvelle époque** avec l'avènement des notebooks Jupyter : \"mariage des technologies web, du développement et du calcul\".\n",
    "- Deux ans plus tard, où en est la révolution Jupyter ?"
   ]
  },
  {
   "cell_type": "markdown",
   "metadata": {
    "slideshow": {
     "slide_type": "subslide"
    }
   },
   "source": [
    "## Si vous avez manqué *Notebook mania 1*\n",
    "\n",
    "\n",
    "Jupyter pour `Julia`-`Python`-`R`.\n",
    "\n",
    "Les points de départ :\n",
    "- le notebook Sage\n",
    "- le notebook ipython"
   ]
  },
  {
   "cell_type": "markdown",
   "metadata": {
    "slideshow": {
     "slide_type": "subslide"
    }
   },
   "source": [
    "## Une brève chronologie\n",
    "\n",
    "- **2001 :** lancement du projet IPython\n",
    "- **2006 :** les notebooks Sage\n",
    "- **2011 :** première version publiée du notebook IPython\n",
    "- **2011-2014 :** création du projet Jupyter, ouvert à d'autres langages que Python\n",
    "- **Eté 2017 :** publication de Jupyterlab. Plus d'[un million de notebooks Jupyter](https://library.ucsd.edu/dc/collection/bb6931851t) détectés sur github\n",
    "\n",
    "L'histoire est racontée sur le [blog de Fernando Perez](http://blog.fperez.org/2012/01/ipython-notebook-historical.html) et dans [cet article de Karlijn Willems](https://www.datacamp.com/community/blog/ipython-jupyter)."
   ]
  },
  {
   "cell_type": "markdown",
   "metadata": {
    "slideshow": {
     "slide_type": "subslide"
    }
   },
   "source": [
    "# Les ingrédients de base\n",
    "\n",
    "## La couche web\n",
    "\n",
    "- `tornado` pour le serveur web\n",
    "- `JQuery` pour le javascript\n",
    "- `Codemirror` pour l'édition de code\n",
    "- `MathJax` pour le rendu LaTeX"
   ]
  },
  {
   "cell_type": "markdown",
   "metadata": {
    "slideshow": {
     "slide_type": "subslide"
    }
   },
   "source": [
    "## La couche langage\n",
    "\n",
    "Une multitude de noyaux : \n",
    "- les officiels : `Python, Julia, R`\n",
    "- les noyaux maintenus par la communauté : `Sagemath, Cling (C++), Fortran, bash, go`, etc.\n",
    "- Actuellement [plus de 100 noyaux communautaires !](https://github.com/jupyter/jupyter/wiki/Jupyter-kernels) (contre 50 à l'époque de *Notebook mania 1*)"
   ]
  },
  {
   "cell_type": "markdown",
   "metadata": {
    "slideshow": {
     "slide_type": "slide"
    }
   },
   "source": [
    "# Qu'est-ce qu'un notebook Jupyter ?\n",
    "\n",
    "Une page web dynamique constituée d'une séquence de cellules de deux types : \n",
    "- cellules de **texte** : éditables\n",
    "- cellules de **`code`** : éditables et exécutables\n",
    "\n",
    "On bénéficie de la techno web : texte riche, rendu des principaux formats de médias, aides en ligne, etc."
   ]
  },
  {
   "cell_type": "markdown",
   "metadata": {
    "slideshow": {
     "slide_type": "subslide"
    }
   },
   "source": [
    "## Le notebook type\n",
    "\n",
    "<img alt=\"Mathrice\" style=\"border-width:0\" width=\"100%\" src=\"images/example_notebook.png\">\n",
    "Source : https://github.com/activityhistory/jupyter_on_github"
   ]
  },
  {
   "cell_type": "markdown",
   "metadata": {
    "slideshow": {
     "slide_type": "subslide"
    }
   },
   "source": [
    "## Cellules de texte \n",
    "\n",
    "- rendu de texte enrichi avec `markdown` : formattage, reconnaissance syntaxique\n",
    "- rendu $\\LaTeX$ (avec `MathJax`)\n",
    "    \n",
    "$$e^{i\\pi} + 1 = 0$$\n",
    "\n",
    "- images\n",
    "<div align=\"center\">\n",
    "<img alt=\"Mathrice\" width=\"20%\" src=\"images/logo_mathrice.png\">\n",
    "</div>"
   ]
  },
  {
   "cell_type": "markdown",
   "metadata": {
    "slideshow": {
     "slide_type": "subslide"
    }
   },
   "source": [
    "- vidéo/son\n",
    "\n",
    "<div align=\"center\">\n",
    "<video src=\"http://calcul.math.cnrs.fr/Documents/Ecoles/2010/Videos/Videos_br/Python_Sage.mp4\" controls>\n",
    "Your browser does not support the video tag\n",
    "</video>\n",
    "</div>\n",
    "\n",
    "\n",
    "> **Note :** Attention à l'ajout de contenu html/javascript qui peut créer des interactions non voulues, en particulier lors des conversions."
   ]
  },
  {
   "cell_type": "markdown",
   "metadata": {
    "slideshow": {
     "slide_type": "subslide"
    }
   },
   "source": [
    "## Cellules de code éditables et exécutables\n",
    "\n",
    "- le code est exécuté dans le langage du noyau\n",
    "- la sortie standard et l'erreur se fait sous la cellule\n",
    "- le compteur d'exécutions est incrémenté dans la colonne de gauche\n",
    "- avec les bibliothèques graphiques, on peut afficher et interagir avec des tracés !"
   ]
  },
  {
   "cell_type": "code",
   "execution_count": null,
   "metadata": {},
   "outputs": [],
   "source": [
    "def say_hello():\n",
    "    print(\"Hello!\")\n",
    "say_hello()"
   ]
  },
  {
   "cell_type": "markdown",
   "metadata": {
    "slideshow": {
     "slide_type": "subslide"
    }
   },
   "source": [
    "Le compteur affiche `In [*]` pendant l'exécution :"
   ]
  },
  {
   "cell_type": "code",
   "execution_count": null,
   "metadata": {},
   "outputs": [],
   "source": [
    "import time\n",
    "time.sleep(2)\n",
    "say_hello()"
   ]
  },
  {
   "cell_type": "markdown",
   "metadata": {
    "slideshow": {
     "slide_type": "fragment"
    }
   },
   "source": [
    "Pour les tracés, patience..."
   ]
  },
  {
   "cell_type": "markdown",
   "metadata": {
    "slideshow": {
     "slide_type": "slide"
    }
   },
   "source": [
    "# Fonctionnalités de base\n",
    "\n",
    "Pour découvrir l'utilisation des notebooks, l'aide propose un tour guidé : `Help > User interface tour`.\n",
    "\n",
    "Du point de vue utilisateur, on peut regrouper les fonctionnalités dans trois catégories :\n",
    "\n",
    "- Edition\n",
    "- Rendu et exécution\n",
    "- Conversion"
   ]
  },
  {
   "cell_type": "markdown",
   "metadata": {
    "slideshow": {
     "slide_type": "subslide"
    }
   },
   "source": [
    "## Interaction avec le notebook\n",
    "\n",
    "Deux modes (un peu comme dans `vi`) :\n",
    "\n",
    "- mode commande\n",
    "- mode édition\n",
    "\n",
    "### Mode édition\n",
    "\n",
    "- à la souris\n",
    "- au clavier : raccourcis très utiles (`Help > Keyboard shortcuts`)\n",
    "\n",
    "### Mode commande\n",
    "\n",
    "- pour se déplacer\n",
    "- pour sélectionner une ou des cellules\n",
    "- pour exécuter des cellules de code\n"
   ]
  },
  {
   "cell_type": "markdown",
   "metadata": {
    "slideshow": {
     "slide_type": "slide"
    }
   },
   "source": [
    "# Intérêt des notebooks pour les sciences\n",
    "\n",
    "- communication scientifique\n",
    "- reproductibilité\n",
    "- pédagogie\n",
    "- une interface vers des logiciels : SageMath, MatLab, codes maison, etc.\n",
    "- une chaîne de traitement documentée\n",
    "\n",
    "> **Note :** pour SageMath, les notebooks Sage sont désormais remplacés par les notebooks Jupyter"
   ]
  },
  {
   "cell_type": "markdown",
   "metadata": {
    "slideshow": {
     "slide_type": "slide"
    }
   },
   "source": [
    "# Passage en revue des fonctionnalités\n",
    "\n",
    "## Le texte enrichi"
   ]
  },
  {
   "cell_type": "markdown",
   "metadata": {
    "slideshow": {
     "slide_type": "subslide"
    }
   },
   "source": [
    "Si j'écris :"
   ]
  },
  {
   "cell_type": "raw",
   "metadata": {},
   "source": [
    "```bash\n",
    "ls -al\n",
    "```"
   ]
  },
  {
   "cell_type": "markdown",
   "metadata": {
    "slideshow": {
     "slide_type": "fragment"
    }
   },
   "source": [
    "la cellule markdown est rendue en `bash` :\n",
    "\n",
    "```bash\n",
    "ls -al\n",
    "```"
   ]
  },
  {
   "cell_type": "markdown",
   "metadata": {
    "slideshow": {
     "slide_type": "subslide"
    }
   },
   "source": [
    "Maintenant  :"
   ]
  },
  {
   "cell_type": "raw",
   "metadata": {},
   "source": [
    "```python\n",
    "def say_hello():\n",
    "    print(\"Hello\")\n",
    "say_hello()\n",
    "```"
   ]
  },
  {
   "cell_type": "markdown",
   "metadata": {
    "slideshow": {
     "slide_type": "fragment"
    }
   },
   "source": [
    "Rendu en `python` :\n",
    "\n",
    "```python\n",
    "def say_hello():\n",
    "    print(\"Hello\")\n",
    "say_hello()\n",
    "```"
   ]
  },
  {
   "cell_type": "markdown",
   "metadata": {
    "slideshow": {
     "slide_type": "subslide"
    }
   },
   "source": [
    "## Interopérabilité et ergonomie\n",
    "\n",
    "Des *magic commands* en ligne et par cellule qui permettent d'interagir avec le système ou d'appeler d'autres langages."
   ]
  },
  {
   "cell_type": "code",
   "execution_count": null,
   "metadata": {},
   "outputs": [],
   "source": [
    "%lsmagic"
   ]
  },
  {
   "cell_type": "markdown",
   "metadata": {
    "slideshow": {
     "slide_type": "slide"
    }
   },
   "source": [
    "## Des exemples !\n",
    "\n",
    "### Calcul\n",
    "\n",
    "Allons sur GPU avec pyopencl : [../patapon/stvenant.ipynb](../patapon/stvenant.ipynb)\n",
    "\n",
    "### Traitement des données\n",
    "\n",
    "Avec pandas : [../cours-python/07-pandas.ipynb](../cours-python/07-pandas.ipynb) extrait de [ce cours](https://mm2act.pages.math.unistra.fr/cours-python/)."
   ]
  },
  {
   "cell_type": "markdown",
   "metadata": {
    "slideshow": {
     "slide_type": "subslide"
    }
   },
   "source": [
    "### Enseignement des mathématiques\n",
    "\n",
    "Un exemple très riche, le cours de Randall J. LeVeque :\n",
    "\n",
    "- source github <https://github.com/clawpack/riemann_book>\n",
    "- exposé à PyData 2017 : [Writing a Book in Jupyter Notebooks](https://www.youtube.com/watch?v=mC_RERKi56c)\n",
    "- un extrait : [../riemann_book/Shallow_water.ipynb](../riemann_book/Shallow_water.ipynb)\n",
    "\n",
    "On y trouve :\n",
    "\n",
    "- l'utilisation des widgets\n",
    "- le travail d'export de contenu dynamique vers un contenu statique **propre**\n",
    "- la compilation de notebooks comme chapitres d'un livre avec [bookbook](https://github.com/takluyver/bookbook)"
   ]
  },
  {
   "cell_type": "markdown",
   "metadata": {
    "slideshow": {
     "slide_type": "slide"
    }
   },
   "source": [
    "# Travailler en pratique avec les notebooks ?\n",
    "\n",
    "C'est très beau, je veux travailler avec ! Comment fais-je ?...\n",
    "\n",
    "Trois problématiques principales :\n",
    "\n",
    "- partager\n",
    "- convertir\n",
    "- exécuter\n",
    "\n",
    "Mais pour quels besoins ? Enseignement ? Communication scientifique ? Calcul ? Voire calcul intensif ?"
   ]
  },
  {
   "cell_type": "markdown",
   "metadata": {
    "slideshow": {
     "slide_type": "slide"
    }
   },
   "source": [
    "## Partager\n",
    "\n",
    "Tout est stocké dans un fichier au format `json` (y compris les sorties d'exécution) donc :\n",
    "\n",
    "- GitLab\n",
    "- GitHub\n",
    "- Intégration dans les sites webs : générateurs de sites statiques"
   ]
  },
  {
   "cell_type": "markdown",
   "metadata": {
    "slideshow": {
     "slide_type": "subslide"
    }
   },
   "source": [
    "## Convertir\n",
    "\n",
    "avec `nbconvert`, de nombreux exports sont disponibles :\n",
    "\n",
    "- **page html**\n",
    "- **diaporama** `REVEAL.js` (ce support en est un !)\n",
    "- **pdf** (traduit par pandoc en LaTeX puis compilé)\n",
    "\n",
    "Le notebook peut être exécuté lors de l'export pour contenir la sortie des exécutions."
   ]
  },
  {
   "cell_type": "markdown",
   "metadata": {
    "slideshow": {
     "slide_type": "subslide"
    }
   },
   "source": [
    "### Un exemple de conversion"
   ]
  },
  {
   "cell_type": "code",
   "execution_count": null,
   "metadata": {
    "scrolled": true
   },
   "outputs": [],
   "source": [
    "%%bash\n",
    "jupyter nbconvert --to html notebook-mania2.ipynb\n",
    "ls -al notebook-mania2.html"
   ]
  },
  {
   "cell_type": "markdown",
   "metadata": {},
   "source": [
    "qui produit le fichier [notebook-mania2.html](notebook-mania2.html)."
   ]
  },
  {
   "cell_type": "markdown",
   "metadata": {
    "slideshow": {
     "slide_type": "subslide"
    }
   },
   "source": [
    "## Exécuter\n",
    "\n",
    "**Partage**, **conversion** et **publication** peuvent être facilement assurés par une chaîne d'intégration continue telle que gitlab-ci (cf. [exposé GitLab Pages](http://mboileau.pages.math.cnrs.fr/gitlab-pages)).\n",
    "\n",
    "Le morceau difficile, c'est l'**exécution**..."
   ]
  },
  {
   "cell_type": "markdown",
   "metadata": {
    "slideshow": {
     "slide_type": "subslide"
    }
   },
   "source": [
    "### Les solutions\n",
    "\n",
    "#### Le serveur jupyter local\n",
    "\n",
    "Avantages :\n",
    "\n",
    "- pas de serveur/comptes/stockage à installer et à maintenir\n",
    "- chaque exécution est indépendante en terme de ressources\n",
    "\n",
    "Inconvénients :\n",
    "\n",
    "- nécessite d'installer Jupyter côté utilisateur\n",
    "- pour Python, la suite Anaconda fait très bien ce travail pour toutes les plateformes (Windows, Mac, Linux) mais certaines dépendances spécifiques peuvent manquer\n",
    "- dès qu'on sort des distributions packagées, la diffusion se complique \n",
    "- on est limité par la ressource du poste utilisateur : CPU, mémoire, GPU, etc."
   ]
  },
  {
   "cell_type": "markdown",
   "metadata": {
    "slideshow": {
     "slide_type": "subslide"
    }
   },
   "source": [
    "#### Le serveur Jupyterhub\n",
    "\n",
    "Avantages :\n",
    "\n",
    "- l'utilisateur a uniquement besoin d'une connexion dans son navigateur\n",
    "- on assure une configuration matérielle et logicielle conforme aux besoins d'une session\n",
    "\n",
    "Inconvénients :\n",
    "\n",
    "- L'effort pour maintenir un Jupyterhub robuste\n",
    "- Problème de l'accès concurrentiel aux ressources : le notebook est basé sur usage interactif qui ne se prête naturellement à l'ordonnancement"
   ]
  },
  {
   "cell_type": "markdown",
   "metadata": {
    "slideshow": {
     "slide_type": "subslide"
    }
   },
   "source": [
    "#### Mybinder\n",
    "\n",
    "Basé sur `repo2docker`.\n",
    "\n",
    "Avantages :\n",
    "\n",
    "- extrêmement souple : ajout des dépendances par fichiers `requirements.txt`, `apt.txt`, `environment.yml` ou même `Dockerfile`\n",
    "- actuellement une instance gratuite (limitée en temps) !\n",
    "\n",
    "Inconvénients :\n",
    "\n",
    "- pas de persistance des données\n",
    "\n",
    "Cette présentation avec binder : \n",
    "https://mybinder.org/ \n",
    "[![Binder](https://mybinder.org/badge.svg)](https://mybinder.org/v2/gh/boileaum/notebook-mania2/master?filepath=notebook-mania2.ipynb)"
   ]
  },
  {
   "cell_type": "markdown",
   "metadata": {
    "slideshow": {
     "slide_type": "subslide"
    }
   },
   "source": [
    "#### Cocalc\n",
    "\n",
    "<https://cocalc.com/>\n",
    "\n",
    "Avantages :\n",
    "\n",
    "- un très grand nombre de noyaux disponibles\n",
    "- des outils collaboratifs faciles à prendre en main\n",
    "\n",
    "Inconvénients :\n",
    "\n",
    "- la ressource coûte cher\n",
    "- maintenu par une plus petite équipe\n",
    "\n",
    "$\\implies$ La solution \"riche\"."
   ]
  },
  {
   "cell_type": "markdown",
   "metadata": {
    "slideshow": {
     "slide_type": "slide"
    }
   },
   "source": [
    "## Usages avancés et évolution"
   ]
  },
  {
   "cell_type": "markdown",
   "metadata": {
    "slideshow": {
     "slide_type": "slide"
    }
   },
   "source": [
    "### nbgrader\n",
    "\n",
    "Deux modes :\n",
    "\n",
    "  - Mode local (récupération manuelle des formulaires)\n",
    "  - Mode hébergé (avec JupyterHub)\n",
    "\n",
    "Le principe :\n",
    "\n",
    "- Encadrement de la solution par des balises\n",
    "- Auto vérification par des évaluations booléennes\n",
    "- Vérification manuelle avec possibilité d'anonymat"
   ]
  },
  {
   "cell_type": "markdown",
   "metadata": {
    "slideshow": {
     "slide_type": "subslide"
    }
   },
   "source": [
    "Les étapes :\n",
    "\n",
    "1. Version enseignant\n",
    "2. Auto-génération de la version étudiant\n",
    "3. Publication de la version étudiant\n",
    "4. Récupération des soumissions (sans effort avec la version hébergée)\n",
    "5. Auto-évaluation\n",
    "6. Evaluation manuelle\n",
    "7. Commentaires écrits aux étudiants\n",
    "\n",
    "[La vidéo qui dit tout.](https://youtu.be/5WUm0QuJdFw)"
   ]
  },
  {
   "cell_type": "markdown",
   "metadata": {
    "slideshow": {
     "slide_type": "subslide"
    }
   },
   "source": [
    "### Les extensions\n",
    "\n",
    "Elles sont nombreuses !\n",
    "\n",
    "**Attention :**\n",
    "\n",
    "- une extension dans votre instance locale n'est pas installée dans la distribution Jupyter de base et peut rendre plus difficile la distribution de vos notebooks.\n",
    "- toutes ne sont pas transférées dans Jupyterlab "
   ]
  },
  {
   "cell_type": "markdown",
   "metadata": {
    "slideshow": {
     "slide_type": "subslide"
    }
   },
   "source": [
    "### Assembler\n",
    "\n",
    "#### bookbook\n",
    "\n",
    "- Assembler chaque notebook comme le chapitre d'un livre\n",
    "- Références croisées entre notebooks\n",
    "- Numérotation des équations\n",
    "- Citations bibliographiques\n",
    "- export html avec animations\n",
    "- export pdf qualité impression"
   ]
  },
  {
   "cell_type": "markdown",
   "metadata": {
    "slideshow": {
     "slide_type": "subslide"
    }
   },
   "source": [
    "### Vers des applications web ?\n",
    "\n",
    "Avec sa bibliothèque de widgets, Jupyter peut être vu également comme un atelier de fabrication d'applications web orientées vers le calcul et le traitement des données. \n",
    "\n",
    "Cf. l'exemple [shallow_water](http://www.clawpack.org/riemann_book/html/phase_plane_shallow_water_small.html) de R. J. Leveque."
   ]
  },
  {
   "cell_type": "markdown",
   "metadata": {
    "slideshow": {
     "slide_type": "subslide"
    }
   },
   "source": [
    "### Jupyterlab\n",
    "\n",
    "- Première publication à l'été 2017\n",
    "- destiner à remplacer le serveur jupyter classique"
   ]
  },
  {
   "cell_type": "markdown",
   "metadata": {
    "slideshow": {
     "slide_type": "slide"
    }
   },
   "source": [
    "# Conclusion\n",
    "\n",
    "- Jupyter s'appuie sur la technologie du web pour l'intéractivité et la portabilité\n",
    "- Très large spectre de communautés scientifiques concernées\n",
    "- Un intérêt évident pour les mathématiques (enseignement et recherche)\n",
    "- Nécessite de posséder et de maîtriser un certain environnement matériel et logiciel\n",
    "- La planète Jupyter semble pleine de promesses..."
   ]
  },
  {
   "cell_type": "markdown",
   "metadata": {
    "slideshow": {
     "slide_type": "fragment"
    }
   },
   "source": [
    "<div align=\"center\">\n",
    "<img alt=\"Mathrice\" width=\"20%\" src=\"images/fusee.png\">\n",
    "<h3 style=\"text-align: center;\" markdown=\"1\">Prêts à décoller ?</h3>\n",
    "</div> "
   ]
  }
 ],
 "metadata": {
  "celltoolbar": "Slideshow",
  "kernelspec": {
   "display_name": "Python 3",
   "language": "python",
   "name": "python3"
  },
  "language_info": {
   "codemirror_mode": {
    "name": "ipython",
    "version": 3
   },
   "file_extension": ".py",
   "mimetype": "text/x-python",
   "name": "python",
   "nbconvert_exporter": "python",
   "pygments_lexer": "ipython3",
   "version": "3.6.2"
  }
 },
 "nbformat": 4,
 "nbformat_minor": 2
}
